{
 "cells": [
  {
   "cell_type": "markdown",
   "metadata": {},
   "source": [
    "## Procesamiento de DataSets 1\n"
   ]
  },
  {
   "cell_type": "code",
   "execution_count": 2,
   "metadata": {},
   "outputs": [
    {
     "data": {
      "text/plain": [
       "\" \\nread_dataset= Path ('./datasets/ar-airports.csv')\\nwrite_dataset= Path ('./datasets_custom/ar-airports-custom.csv')\\n\\n\""
      ]
     },
     "execution_count": 2,
     "metadata": {},
     "output_type": "execute_result"
    }
   ],
   "source": [
    "import csv\n",
    "from pathlib import Path\n",
    "\n",
    "\"\"\" \n",
    "read_dataset= Path ('./datasets/ar-airports.csv')\n",
    "write_dataset= Path ('./datasets_custom/ar-airports-custom.csv')\n",
    "\n",
    "\"\"\""
   ]
  },
  {
   "cell_type": "markdown",
   "metadata": {},
   "source": [
    "Se hace el import de la libreria csv y de la funcion Path de la liberaria pathlib. Se declara en dos variables diferentes los paths a los archivos.\n"
   ]
  },
  {
   "cell_type": "code",
   "execution_count": 7,
   "metadata": {},
   "outputs": [
    {
     "ename": "SyntaxError",
     "evalue": "invalid syntax (47633707.py, line 1)",
     "output_type": "error",
     "traceback": [
      "\u001b[1;36m  Cell \u001b[1;32mIn[7], line 1\u001b[1;36m\u001b[0m\n\u001b[1;33m    open (file= './datasets/ar-airports.csv', mode='r',encoding= 'UTF-8') as lectura\u001b[0m\n\u001b[1;37m                                                                          ^\u001b[0m\n\u001b[1;31mSyntaxError\u001b[0m\u001b[1;31m:\u001b[0m invalid syntax\n"
     ]
    }
   ],
   "source": [
    "lectura: \n",
    "lectura.open (file= './datasets/ar-airports.csv', mode='r',encoding= 'UTF-8') \n",
    "open('./datasets_custom/ar-airports-custom.csv' ,mode='w',encoding= 'UTF-8' ,newline= '') as escritura \n"
   ]
  },
  {
   "cell_type": "markdown",
   "metadata": {},
   "source": [
    "Se abre el archivo de lectura en modo lectura ('r') y el archivo de escritura en modo escritura ('w'). También se especifica la codificación (UTF-8) y se establece newline='' para manejar los saltos de línea en plataformas diferentes."
   ]
  },
  {
   "cell_type": "code",
   "execution_count": 6,
   "metadata": {},
   "outputs": [
    {
     "ename": "NameError",
     "evalue": "name 'lectura' is not defined",
     "output_type": "error",
     "traceback": [
      "\u001b[1;31m---------------------------------------------------------------------------\u001b[0m",
      "\u001b[1;31mNameError\u001b[0m                                 Traceback (most recent call last)",
      "Cell \u001b[1;32mIn[6], line 1\u001b[0m\n\u001b[1;32m----> 1\u001b[0m lectorcsv\u001b[38;5;241m=\u001b[39m csv\u001b[38;5;241m.\u001b[39mreader(\u001b[43mlectura\u001b[49m)\n\u001b[0;32m      2\u001b[0m escritorcsv\u001b[38;5;241m=\u001b[39m csv\u001b[38;5;241m.\u001b[39mwriter (escritura)\n",
      "\u001b[1;31mNameError\u001b[0m: name 'lectura' is not defined"
     ]
    }
   ],
   "source": [
    "lectorcsv= csv.reader(lectura)\n",
    "escritorcsv= csv.writer (escritura)"
   ]
  },
  {
   "cell_type": "markdown",
   "metadata": {},
   "source": [
    "Se crea un lector CSV (lectorcsv) para leer el archivo de entrada y un escritor CSV (escritorcsv) para escribir en el archivo de salida."
   ]
  },
  {
   "cell_type": "code",
   "execution_count": null,
   "metadata": {},
   "outputs": [
    {
     "ename": "NameError",
     "evalue": "name 'lectorcsv' is not defined",
     "output_type": "error",
     "traceback": [
      "\u001b[1;31m---------------------------------------------------------------------------\u001b[0m",
      "\u001b[1;31mNameError\u001b[0m                                 Traceback (most recent call last)",
      "Cell \u001b[1;32mIn[2], line 1\u001b[0m\n\u001b[1;32m----> 1\u001b[0m encabezado \u001b[38;5;241m=\u001b[39m \u001b[38;5;28mnext\u001b[39m(\u001b[43mlectorcsv\u001b[49m)\n\u001b[0;32m      2\u001b[0m encabezado\u001b[38;5;241m.\u001b[39mappend (\u001b[38;5;124m'\u001b[39m\u001b[38;5;124melevation_name\u001b[39m\u001b[38;5;124m'\u001b[39m)\n\u001b[0;32m      3\u001b[0m escritorcsv\u001b[38;5;241m.\u001b[39mwriterow (encabezado)\n",
      "\u001b[1;31mNameError\u001b[0m: name 'lectorcsv' is not defined"
     ]
    }
   ],
   "source": [
    "encabezado = next(lectorcsv)\n",
    "encabezado.append ('elevation_name')\n",
    "escritorcsv.writerow (encabezado)"
   ]
  },
  {
   "cell_type": "markdown",
   "metadata": {},
   "source": [
    "Se lee la primera fila del archivo de entrada para obtener el encabezado. Luego, se agrega la cadena 'elevation_name' al encabezado. El encabezado actualizado se escribe en el archivo de salida."
   ]
  },
  {
   "cell_type": "code",
   "execution_count": null,
   "metadata": {},
   "outputs": [],
   "source": [
    "for fila in lectorcsv:\n",
    "        try: \n",
    "            elevacion = float(fila[6])\n",
    "            if elevacion <= 131:\n",
    "                elevation_name= 'bajo'\n",
    "            elif elevacion <=903:\n",
    "                elevation_name= 'medio'\n",
    "            else:   \n",
    "                elevation_name='alto'\n",
    "\n",
    "            fila.append(elevation_name)\n",
    "            escritorcsv.writerow(fila)\n",
    "\n",
    "        except ValueError: \n",
    "            fila.append ('Sin altura')\n",
    "            escritorcsv.writerow(fila)"
   ]
  },
  {
   "cell_type": "markdown",
   "metadata": {},
   "source": [
    "Para cada fila restante en el archivo de entrada se intenta convertir el valor en la sexta columna (la cual es la elevacion del aeropuerto) a un número flotante. Si la conversión es exitosa, se procede a determinar la categoría de elevación ('bajo', 'medio' o 'alto') y se agrega al archivo csv en la columna creada previamente. Si la conversión falla (porque la linea esta vacia o no es un numero), se captura la excepción ValueError y se agrega la cadena 'Sin altura' a la fila.\n"
   ]
  }
 ],
 "metadata": {
  "kernelspec": {
   "display_name": "Python 3",
   "language": "python",
   "name": "python3"
  },
  "language_info": {
   "codemirror_mode": {
    "name": "ipython",
    "version": 3
   },
   "file_extension": ".py",
   "mimetype": "text/x-python",
   "name": "python",
   "nbconvert_exporter": "python",
   "pygments_lexer": "ipython3",
   "version": "3.11.7"
  }
 },
 "nbformat": 4,
 "nbformat_minor": 2
}
